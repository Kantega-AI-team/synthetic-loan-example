{
 "cells": [
  {
   "cell_type": "markdown",
   "id": "595e3009",
   "metadata": {},
   "source": [
    "## Bias og maskinlæring - et syntetisk eksempel"
   ]
  },
  {
   "cell_type": "markdown",
   "id": "4ce2fac4",
   "metadata": {},
   "source": [
    "Boilerplate"
   ]
  },
  {
   "cell_type": "code",
   "execution_count": null,
   "id": "6b7facb5",
   "metadata": {},
   "outputs": [],
   "source": [
    "import fairlearn\n",
    "import matplotlib.pyplot as plt\n",
    "import numpy as np\n",
    "import pandas_profiling as pp\n",
    "import pandas as pd\n",
    "import seaborn as sns\n",
    "import dataframe_image as dfi\n",
    "from sklearn import metrics as skm\n",
    "\n",
    "from fairlearn.metrics import MetricFrame, count, selection_rate\n",
    "from fairlearn.postprocessing import ThresholdOptimizer, plot_threshold_optimizer\n",
    "from sklearn.inspection import PartialDependenceDisplay\n",
    "from sklearn.model_selection import train_test_split\n",
    "from sklearn.neural_network import MLPClassifier\n",
    "from sklearn.preprocessing import StandardScaler\n",
    "from fairlearn_demo.synthetic import SyntheticCreditData\n",
    "\n",
    "sns.set()"
   ]
  },
  {
   "cell_type": "markdown",
   "id": "f3dee513",
   "metadata": {},
   "source": [
    "## Hente data"
   ]
  },
  {
   "cell_type": "code",
   "execution_count": null,
   "id": "58e2098b",
   "metadata": {},
   "outputs": [],
   "source": [
    "df = SyntheticCreditData().sample(25000)\n",
    "df.describe()"
   ]
  },
  {
   "cell_type": "markdown",
   "id": "853ec179",
   "metadata": {},
   "source": [
    "Styling og print av datautsnitt"
   ]
  },
  {
   "cell_type": "code",
   "execution_count": null,
   "id": "398f88f7",
   "metadata": {},
   "outputs": [],
   "source": [
    "df.loc[:, \"inntekt_formatert\"] = df[\"inntekt\"].map(\"{:,d}\".format) + \" kr\"\n",
    "df.loc[:, \"inntekt_formatert\"] = df[\"inntekt_formatert\"].map(\n",
    "    lambda x: x.replace(\",\", \" \")\n",
    ")\n",
    "styled = (\n",
    "    df[[\"kjonn\", \"etnisitet\", \"alder\", \"utdanning\", \"inntekt_formatert\", \"mislighold\"]]\n",
    "    .sample(50)\n",
    "    .copy()\n",
    "    .rename(columns={\"inntekt_formatert\": \"inntekt\"})\n",
    "    .sample(12)\n",
    "    .style.highlight_max(subset=[\"mislighold\"], props=\"color:red;font-weight:bold\")\n",
    "    .highlight_max(\n",
    "        subset=[\"kjonn\"], color=\"rgb(220, 220, 240)\", props=\"font-weight:bold\"\n",
    "    )\n",
    "    .highlight_max(\n",
    "        subset=[\"etnisitet\"], color=\"rgb(200, 220, 240)\", props=\"font-weight:bold\"\n",
    "    )\n",
    "    .highlight_min(\n",
    "        subset=[\"utdanning\"], color=\"rgb(200, 200, 200)\", props=\"font-weight:light\"\n",
    "    )\n",
    "    .hide(axis=\"index\")\n",
    "    .set_properties(**{\"text-align\": \"center\"})\n",
    ")\n",
    "dfi.export(styled, \"datasample.png\")\n",
    "dfi.export(\n",
    "    styled.hide_columns([\"kjonn\", \"etnisitet\"]), \"datasample_nogender_noetnicity.png\"\n",
    ")"
   ]
  },
  {
   "cell_type": "markdown",
   "id": "8be4cb75",
   "metadata": {},
   "source": [
    "#### Splitter i trening og testsett, og definerer sensitive verdier"
   ]
  },
  {
   "cell_type": "code",
   "execution_count": null,
   "id": "94ebdd31",
   "metadata": {},
   "outputs": [],
   "source": [
    "A = df[[\"kjonn\", \"etnisitet\"]]\n",
    "y = df[\"mislighold\"]\n",
    "X = df.drop(labels=[\"kjonn\", \"etnisitet\", \"mislighold\", \"inntekt_formatert\"], axis=1)\n",
    "\n",
    "\n",
    "X = pd.get_dummies(X, drop_first=True)\n",
    "sc = StandardScaler()\n",
    "X_scaled = sc.fit_transform(X)\n",
    "X_scaled = pd.DataFrame(X_scaled, columns=X.columns)\n",
    "X_train, X_test, y_train, y_test, A_train, A_test = train_test_split(\n",
    "    X_scaled, y, A, test_size=0.3, random_state=1234, stratify=y\n",
    ")"
   ]
  },
  {
   "cell_type": "markdown",
   "id": "a8687801",
   "metadata": {},
   "source": [
    "#### Trening av naiv modell"
   ]
  },
  {
   "cell_type": "code",
   "execution_count": null,
   "id": "572bba09",
   "metadata": {},
   "outputs": [],
   "source": [
    "unmitigated_model = MLPClassifier(\n",
    "    max_iter=2000,\n",
    "    hidden_layer_sizes=(50, 50),\n",
    "    learning_rate=\"adaptive\",\n",
    "    learning_rate_init=0.0003,\n",
    ")\n",
    "unmitigated_model.fit(X_train, y_train)"
   ]
  },
  {
   "cell_type": "markdown",
   "id": "bfdf5c10",
   "metadata": {},
   "source": [
    "Undersøker diskrimineringsevne ved roc auc"
   ]
  },
  {
   "cell_type": "code",
   "execution_count": null,
   "id": "0e092073",
   "metadata": {},
   "outputs": [],
   "source": [
    "fig1 = plt.gcf()\n",
    "FPR, TPR, _ = skm.roc_curve(y_test, unmitigated_model.predict_proba(X_test)[:, 1])\n",
    "FPR_all_zeros, TPR_all_zeros, _ = skm.roc_curve(y_test, np.zeros(len(y_test)))\n",
    "# FPR, TPR, _ = skm.roc_curve(y_test, -X_test[\"inntekt\"])\n",
    "\n",
    "fig, ax = plt.subplots(nrows=1, ncols=2, figsize=(12, 4))\n",
    "roc_display = skm.RocCurveDisplay(fpr=FPR, tpr=TPR)\n",
    "roc_display_all_zeros = skm.RocCurveDisplay(fpr=FPR_all_zeros, tpr=TPR_all_zeros)\n",
    "\n",
    "roc_display.plot(ax[0])\n",
    "roc_display_all_zeros.plot(ax[1])\n",
    "fig.savefig(\"roc.png\", dpi=100)"
   ]
  },
  {
   "cell_type": "markdown",
   "id": "da31bfe9",
   "metadata": {},
   "source": [
    "#### Undersøke rettferdighetsmetrikker"
   ]
  },
  {
   "cell_type": "code",
   "execution_count": null,
   "id": "44e20fa9",
   "metadata": {},
   "outputs": [],
   "source": [
    "gender_test = A_test[[\"kjonn\"]]\n",
    "etnicity_test = A_test[[\"etnisitet\"]]\n",
    "metric_frame = MetricFrame(\n",
    "    metrics={\n",
    "        \"accuracy\": skm.accuracy_score,\n",
    "        \"precision\": skm.precision_score,\n",
    "        \"auc\": skm.roc_auc_score,\n",
    "        \"recall\": skm.recall_score,\n",
    "        \"selection_rate\": selection_rate,\n",
    "        \"count\": count,\n",
    "        \"TPR\": fairlearn.metrics.true_positive_rate,\n",
    "        \"FPR\": fairlearn.metrics.false_positive_rate,\n",
    "    },\n",
    "    sensitive_features=A_test,\n",
    "    y_true=y_test,\n",
    "    y_pred=unmitigated_model.predict(X_test),\n",
    ")\n",
    "metric_frame.overall"
   ]
  },
  {
   "cell_type": "code",
   "execution_count": null,
   "id": "c2fddaf2",
   "metadata": {},
   "outputs": [],
   "source": [
    "# Styler output\n",
    "to_blog = (\n",
    "    (\n",
    "        metric_frame.by_group.drop(\n",
    "            [\"accuracy\", \"precision\", \"auc\", \"recall\", \"count\"], axis=1\n",
    "        )\n",
    "        .copy()\n",
    "        .style.highlight_max(subset=[\"FPR\"], props=\"color:red;font-weight:bold\")\n",
    "        .highlight_min(subset=[\"FPR\"], props=\"color:green;font-weight:bold\")\n",
    "        .highlight_max(subset=[\"selection_rate\"], props=\"color:red;font-weight:bold\")\n",
    "        .highlight_min(subset=[\"selection_rate\"], props=\"color:green;font-weight:bold\")\n",
    "        .highlight_max(subset=[\"TPR\"], props=\"color:green;font-weight:bold\")\n",
    "        .highlight_min(subset=[\"TPR\"], props=\"color:red;font-weight:bold\")\n",
    "        .set_properties(**{\"text-align\": \"center\"})\n",
    "    )\n",
    "    .format(\n",
    "        {\n",
    "            \"selection_rate\": \"{:,.1%}\".format,\n",
    "            \"TPR\": \"{:,.1%}\".format,\n",
    "            \"FPR\": \"{:,.1%}\".format,\n",
    "        }\n",
    "    )\n",
    "    .set_properties(\n",
    "        **{\n",
    "            \"font-size\": \"12pt\",\n",
    "        }\n",
    "    )\n",
    ")\n",
    "\n",
    "dfi.export(to_blog, \"fairness.png\")"
   ]
  },
  {
   "cell_type": "code",
   "execution_count": null,
   "id": "1890a09d",
   "metadata": {},
   "outputs": [],
   "source": [
    "to_blog"
   ]
  },
  {
   "cell_type": "code",
   "execution_count": null,
   "id": "c6cde3bb",
   "metadata": {},
   "outputs": [],
   "source": [
    "colors = [\"#EE3A64\", \"#028EA7\"]\n",
    "snsdata = metric_frame.by_group.copy()\n",
    "\n",
    "fig, ax = plt.subplots(nrows=1, ncols=1)\n",
    "sns.barplot(\n",
    "    ax=ax,\n",
    "    data=snsdata.reset_index(),\n",
    "    x=\"etnisitet\",\n",
    "    y=\"selection_rate\",\n",
    "    hue=\"kjonn\",\n",
    "    palette=sns.color_palette(colors),\n",
    ")\n",
    "\n",
    "fig.savefig(\"dicriminate.png\", dpi=100)"
   ]
  },
  {
   "cell_type": "markdown",
   "id": "904f14d7",
   "metadata": {},
   "source": [
    "### Bedre sent enn aldri - vi utforsker treningsdata"
   ]
  },
  {
   "cell_type": "code",
   "execution_count": null,
   "id": "54c7af05",
   "metadata": {},
   "outputs": [],
   "source": [
    "# pp.ProfileReport(df.loc[X_train.index, :])"
   ]
  },
  {
   "cell_type": "code",
   "execution_count": null,
   "id": "b0650f28",
   "metadata": {},
   "outputs": [],
   "source": [
    "fig, ax = plt.subplots(nrows=1, ncols=2, figsize=(12, 4), sharex=False, sharey=True)\n",
    "sns.boxplot(\n",
    "    ax=ax[0],\n",
    "    y=df.loc[X_train.index, \"inntekt\"],\n",
    "    x=df.loc[X_train.index, \"etnisitet\"],\n",
    "    palette=sns.color_palette(colors),\n",
    ")\n",
    "plt.ticklabel_format(style=\"plain\", axis=\"y\")\n",
    "sns.boxplot(\n",
    "    ax=ax[1],\n",
    "    y=df.loc[X_train.index, \"inntekt\"],\n",
    "    x=df.loc[X_train.index, \"kjonn\"],\n",
    "    palette=sns.color_palette(colors),\n",
    ")\n",
    "plt.ticklabel_format(style=\"plain\", axis=\"y\")\n",
    "fig.savefig(\"income.png\", dpi=100)"
   ]
  },
  {
   "cell_type": "markdown",
   "id": "9cd3698b",
   "metadata": {},
   "source": [
    "#### Vi ser også på partielle avhengigheter i modellen - her med testdatasettet"
   ]
  },
  {
   "cell_type": "code",
   "execution_count": null,
   "id": "ddfd9b3c",
   "metadata": {},
   "outputs": [],
   "source": [
    "# Gjennomsnittlig partial dependency for alder og inntekt\n",
    "fig, ax = plt.subplots(figsize=(12, 6))\n",
    "ax.set_title(\"Neural net\")\n",
    "tree_disp = PartialDependenceDisplay.from_estimator(\n",
    "    unmitigated_model, X_test, [0, 1, (0, 1)], ax=ax\n",
    ")\n",
    "fig.savefig(\"partialdeps.png\", dpi=100)"
   ]
  },
  {
   "cell_type": "markdown",
   "id": "5e67f420",
   "metadata": {},
   "source": [
    "## Biasdemping"
   ]
  },
  {
   "cell_type": "code",
   "execution_count": null,
   "id": "056999fd",
   "metadata": {},
   "outputs": [],
   "source": [
    "optimizer = ThresholdOptimizer(\n",
    "    estimator=unmitigated_model,\n",
    "    constraints=\"equalized_odds\",\n",
    "    predict_method=\"auto\",\n",
    "    objective=\"accuracy_score\",\n",
    "    grid_size=30000,\n",
    "    flip=True,\n",
    ")"
   ]
  },
  {
   "cell_type": "code",
   "execution_count": null,
   "id": "d7c2b351",
   "metadata": {},
   "outputs": [],
   "source": [
    "optimizer.fit(X_train, y_train, sensitive_features=A_train)\n",
    "\n",
    "fig, ax = plt.subplots(nrows=1, ncols=1)\n",
    "plot_threshold_optimizer(optimizer, ax=ax)\n",
    "\n",
    "\n",
    "fig.savefig(\"biasdemping.png\", dpi=100)"
   ]
  },
  {
   "cell_type": "code",
   "execution_count": null,
   "id": "bc7631a7",
   "metadata": {},
   "outputs": [],
   "source": [
    "# Checking model fairness using Fairlearn MetricFrame\n",
    "metric_frame_optimized = MetricFrame(\n",
    "    metrics={\n",
    "        \"accuracy\": skm.accuracy_score,\n",
    "        \"precision\": skm.precision_score,\n",
    "        \"auc\": skm.roc_auc_score,\n",
    "        \"recall\": skm.recall_score,\n",
    "        \"selection_rate\": selection_rate,\n",
    "        \"count\": count,\n",
    "        \"TPR\": fairlearn.metrics.true_positive_rate,\n",
    "        \"FPR\": fairlearn.metrics.false_positive_rate,\n",
    "    },\n",
    "    sensitive_features=A_test,\n",
    "    y_true=y_test,\n",
    "    y_pred=optimizer.predict(X_test, sensitive_features=A_test),\n",
    ")"
   ]
  },
  {
   "cell_type": "code",
   "execution_count": null,
   "id": "d1c3c826",
   "metadata": {},
   "outputs": [],
   "source": [
    "metric_frame_optimized.overall"
   ]
  },
  {
   "cell_type": "code",
   "execution_count": null,
   "id": "bb29ffde",
   "metadata": {},
   "outputs": [],
   "source": [
    "metric_frame_optimized.by_group"
   ]
  },
  {
   "cell_type": "code",
   "execution_count": null,
   "id": "e09da7e2",
   "metadata": {},
   "outputs": [],
   "source": [
    "colors = [\"#EE3A64\", \"#028EA7\"]\n",
    "snsdata = metric_frame_optimized.by_group.copy()\n",
    "\n",
    "fig, ax = plt.subplots(nrows=1, ncols=1)\n",
    "sns.barplot(\n",
    "    ax=ax,\n",
    "    data=snsdata.reset_index(),\n",
    "    x=\"etnisitet\",\n",
    "    y=\"selection_rate\",\n",
    "    hue=\"kjonn\",\n",
    "    palette=sns.color_palette(colors),\n",
    ")\n",
    "\n",
    "fig.savefig(\"dicriminate.png\", dpi=100)"
   ]
  },
  {
   "cell_type": "code",
   "execution_count": null,
   "id": "b04ca027",
   "metadata": {},
   "outputs": [],
   "source": [
    "to_blog2 = (\n",
    "    (\n",
    "        metric_frame_optimized.by_group.drop(\n",
    "            [\"accuracy\", \"precision\", \"auc\", \"recall\", \"count\"], axis=1\n",
    "        )\n",
    "        .copy()\n",
    "        .style.highlight_max(subset=[\"FPR\"], props=\"color:red;font-weight:bold\")\n",
    "        .highlight_min(subset=[\"FPR\"], props=\"color:green;font-weight:bold\")\n",
    "        .highlight_max(subset=[\"selection_rate\"], props=\"color:red;font-weight:bold\")\n",
    "        .highlight_min(subset=[\"selection_rate\"], props=\"color:green;font-weight:bold\")\n",
    "        .highlight_max(subset=[\"TPR\"], props=\"color:green;font-weight:bold\")\n",
    "        .highlight_min(subset=[\"TPR\"], props=\"color:red;font-weight:bold\")\n",
    "        .set_properties(**{\"text-align\": \"center\"})\n",
    "    )\n",
    "    .format(\n",
    "        {\n",
    "            \"selection_rate\": \"{:,.1%}\".format,\n",
    "            \"TPR\": \"{:,.1%}\".format,\n",
    "            \"FPR\": \"{:,.1%}\".format,\n",
    "        }\n",
    "    )\n",
    "    .set_properties(\n",
    "        **{\n",
    "            \"font-size\": \"12pt\",\n",
    "        }\n",
    "    )\n",
    ")\n",
    "\n",
    "dfi.export(to_blog2, \"fairness_after_opimizer.png\")"
   ]
  }
 ],
 "metadata": {
  "kernelspec": {
   "display_name": "Python 3 (ipykernel)",
   "language": "python",
   "name": "python3"
  },
  "language_info": {
   "codemirror_mode": {
    "name": "ipython",
    "version": 3
   },
   "file_extension": ".py",
   "mimetype": "text/x-python",
   "name": "python",
   "nbconvert_exporter": "python",
   "pygments_lexer": "ipython3",
   "version": "3.10.8"
  },
  "vscode": {
   "interpreter": {
    "hash": "b863f835ceb00db98dc48ca3a22816586e21e4e1b8c55d7dde27c2f1907a892d"
   }
  }
 },
 "nbformat": 4,
 "nbformat_minor": 5
}
